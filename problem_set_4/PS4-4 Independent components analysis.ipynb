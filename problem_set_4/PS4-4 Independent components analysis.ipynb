{
 "cells": [
  {
   "cell_type": "markdown",
   "metadata": {
    "collapsed": true,
    "pycharm": {
     "name": "#%% md\n"
    }
   },
   "source": [
    "## PS4-4 Independent components analysis"
   ]
  },
  {
   "cell_type": "markdown",
   "metadata": {
    "pycharm": {
     "name": "#%% md\n"
    }
   },
   "source": [
    "#### (a) Gaussian source"
   ]
  },
  {
   "cell_type": "markdown",
   "metadata": {
    "pycharm": {
     "name": "#%% md\n"
    }
   },
   "source": [
    "From\n",
    "\n",
    "\\begin{align*}\n",
    "\\nabla_W \\ell (W) & = \\nabla_W \\sum_{i = 1}^{m} \\big( \\log \\vert W \\vert + \\sum_{j = 1}^{n} \\log g' (w_j^T x^{(i)}) \\big) \\\\\n",
    "                  & = m(W^{-1})^T - \\frac{1}{2} \\sum_{i = 1}^{m} \\nabla_W \\sum_{j = 1}^{n} (w_j^T x^{(i)})^2 \\\\\n",
    "                  & = m(W^{-1})^T - W X^T X \\\\\n",
    "                  & = 0\n",
    "\\end{align*}\n",
    "\n",
    "we have\n",
    "\n",
    "$$W^T W = m (X^T X)^{-1}$$\n",
    "\n",
    "Let R be an arbitrary orthogonal matrix, then if the data had been mixed according to $W' = RW$,\n",
    "\n",
    "$$W'^T W' = (RW)^T (RW) = W^T R^T R W = W^T W = m (X^T X)^{-1}$$\n",
    "\n",
    "Therefore, there is no  way to tell whether the sources were mixed using $W$ or $W'$."
   ]
  },
  {
   "cell_type": "markdown",
   "metadata": {
    "pycharm": {
     "name": "#%% md\n"
    }
   },
   "source": [
    "#### (b) Laplace source"
   ]
  },
  {
   "cell_type": "markdown",
   "metadata": {
    "pycharm": {
     "name": "#%% md\n"
    }
   },
   "source": [
    "For a single example,\n",
    "\n",
    "\\begin{align*}\n",
    "\\nabla_W \\ell (W) & = \\nabla_W \\log \\vert W \\vert + \\sum_{j = 1}^{n} \\log g' (w_j^T x^{(i)}) \\\\\n",
    "                  & = (W^{-1})^T - \\nabla_W \\sum_{j = 1}^{n} \\vert w_j^T x^{(i)} \\vert \\\\\n",
    "                  & = (W^T)^{-1} - \\mathrm{sign} (W x^{(i)}) (x^{(i)})^T\n",
    "\\end{align*}\n",
    "\n",
    "The update rule is\n",
    "\n",
    "$$W := W + \\alpha \\big( (W^T)^{-1} - \\mathrm{sign} (W x^{(i)}) (x^{(i)})^T \\big)$$"
   ]
  },
  {
   "cell_type": "markdown",
   "metadata": {
    "pycharm": {
     "name": "#%% md\n"
    }
   },
   "source": [
    "#### (c) Cocktail Party Problem"
   ]
  },
  {
   "cell_type": "code",
   "execution_count": 1,
   "metadata": {
    "pycharm": {
     "name": "#%% code\n"
    }
   },
   "outputs": [],
   "source": [
    "import numpy as np\n",
    "import scipy.io.wavfile"
   ]
  },
  {
   "cell_type": "code",
   "execution_count": 2,
   "metadata": {
    "pycharm": {
     "name": "#%% code\n"
    }
   },
   "outputs": [],
   "source": [
    "def update_W(W, x, learning_rate):\n",
    "    \"\"\"\n",
    "    Perform a gradient ascent update on W using data element x and the provided learning rate.\n",
    "\n",
    "    This function should return the updated W.\n",
    "\n",
    "    Use the laplace distribution in this problem.\n",
    "\n",
    "    Args:\n",
    "        W: The W matrix for ICA\n",
    "        x: A single data element\n",
    "        learning_rate: The learning rate to use\n",
    "\n",
    "    Returns:\n",
    "        The updated W\n",
    "    \"\"\"\n",
    "\n",
    "    # *** START CODE HERE ***\n",
    "\n",
    "    updated_W = W + learning_rate * (np.linalg.inv(W.T) - np.outer(np.sign(W @ x), x.T))\n",
    "\n",
    "    # *** END CODE HERE ***\n",
    "\n",
    "    return updated_W"
   ]
  },
  {
   "cell_type": "code",
   "execution_count": 3,
   "metadata": {
    "pycharm": {
     "name": "#%% code\n"
    }
   },
   "outputs": [],
   "source": [
    "def unmix(X, W):\n",
    "    \"\"\"\n",
    "    Unmix an X matrix according to W using ICA.\n",
    "\n",
    "    Args:\n",
    "        X: The data matrix\n",
    "        W: The W for ICA\n",
    "\n",
    "    Returns:\n",
    "        A numpy array S containing the split data\n",
    "    \"\"\"\n",
    "\n",
    "    S = np.zeros(X.shape)\n",
    "\n",
    "\n",
    "    # *** START CODE HERE ***\n",
    "\n",
    "    S = X @ W.T\n",
    "\n",
    "    # *** END CODE HERE ***\n",
    "\n",
    "    return S"
   ]
  },
  {
   "cell_type": "markdown",
   "metadata": {
    "pycharm": {
     "name": "#%% md\n"
    }
   },
   "source": [
    "Run ICA:"
   ]
  },
  {
   "cell_type": "code",
   "execution_count": 6,
   "metadata": {
    "pycharm": {
     "name": "#%% code\n"
    }
   },
   "outputs": [
    {
     "name": "stdout",
     "output_type": "stream",
     "text": [
      "(53442, 5)\n",
      "Separating tracks ...\n",
      "0.1\n",
      "0.1\n",
      "0.1\n",
      "0.05\n",
      "0.05\n",
      "0.05\n",
      "0.02\n",
      "0.02\n",
      "0.01\n",
      "0.01\n",
      "0.005\n",
      "0.005\n",
      "0.002\n",
      "0.002\n",
      "0.001\n",
      "0.001\n",
      "[[ 52.84960754  16.80078835  19.94882758 -10.19906568 -20.90595341]\n",
      " [ -9.92376916  -0.97707867  -4.67376535   8.04189743   1.78878696]\n",
      " [  8.29991551  -7.47071876  19.29533856  15.18781696 -14.33002796]\n",
      " [-14.66771291 -26.64217528   2.4541469   21.37788898  -8.41621517]\n",
      " [ -0.27347678  18.38787404   9.30862356   9.11105981  30.59817989]]\n"
     ]
    }
   ],
   "source": [
    "Fs = 11025\n",
    "\n",
    "def normalize(dat):\n",
    "    return 0.99 * dat / np.max(np.abs(dat))\n",
    "\n",
    "def load_data():\n",
    "    mix = np.loadtxt('data/mix.dat')\n",
    "    return mix\n",
    "\n",
    "def save_sound(audio, name):\n",
    "    scipy.io.wavfile.write('output/{}.wav'.format(name), Fs, audio)\n",
    "\n",
    "def unmixer(X):\n",
    "    M, N = X.shape\n",
    "    W = np.eye(N)\n",
    "\n",
    "    anneal = [0.1 , 0.1, 0.1, 0.05, 0.05, 0.05, 0.02, 0.02, 0.01 , 0.01, 0.005, 0.005, 0.002, 0.002, 0.001, 0.001]\n",
    "    print('Separating tracks ...')\n",
    "    for lr in anneal:\n",
    "        print(lr)\n",
    "        rand = np.random.permutation(range(M))\n",
    "        for i in rand:\n",
    "            x = X[i]\n",
    "            W = update_W(W, x, lr)\n",
    "\n",
    "    return W\n",
    "\n",
    "X = normalize(load_data())\n",
    "\n",
    "print(X.shape)\n",
    "\n",
    "for i in range(X.shape[1]):\n",
    "    save_sound(X[:, i], 'mixed_{}'.format(i))\n",
    "\n",
    "W = unmixer(X)\n",
    "print(W)\n",
    "S = normalize(unmix(X, W))\n",
    "\n",
    "for i in range(S.shape[1]):\n",
    "    save_sound(S[:, i], 'split_{}'.format(i))"
   ]
  },
  {
   "cell_type": "code",
   "execution_count": null,
   "metadata": {},
   "outputs": [],
   "source": []
  }
 ],
 "metadata": {
  "kernelspec": {
   "display_name": "Python 3",
   "language": "python",
   "name": "python3"
  },
  "language_info": {
   "codemirror_mode": {
    "name": "ipython",
    "version": 3
   },
   "file_extension": ".py",
   "mimetype": "text/x-python",
   "name": "python",
   "nbconvert_exporter": "python",
   "pygments_lexer": "ipython3",
   "version": "3.7.4"
  }
 },
 "nbformat": 4,
 "nbformat_minor": 1
}
