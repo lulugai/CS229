{
 "cells": [
  {
   "cell_type": "markdown",
   "metadata": {
    "collapsed": true,
    "pycharm": {
     "name": "#%% md\n"
    }
   },
   "source": [
    "## PS4-3 PCA"
   ]
  },
  {
   "cell_type": "markdown",
   "metadata": {
    "pycharm": {
     "name": "#%% md\n"
    }
   },
   "source": [
    "\\begin{align*}\n",
    "f_u (x) & = \\arg \\min_{v \\in \\mathcal{V}} \\Vert x - v \\Vert^2 \\\\\n",
    "        & = \\arg \\min_{\\alpha u: \\ \\alpha \\in \\mathrm{R}} \\Vert x - \\alpha u \\Vert^2 \\\\\n",
    "        & = \\arg \\min_{\\alpha u: \\ \\alpha \\in \\mathrm{R}} (x^T x - a x^T u \\alpha + \\alpha^2) \\\\\n",
    "        & = \\arg_{\\alpha u: \\ \\alpha \\in \\mathrm{R}} \\frac{\\partial}{\\partial \\alpha} (x^T x - a x^T u \\alpha + \\alpha^2) = 0 \\\\\n",
    "        & = u^T x u\n",
    "\\end{align*}\n",
    "\n",
    "Hence,\n",
    "\n",
    "\\begin{align*}\n",
    "\\arg \\min_{u: u^T u = 1} \\sum_{i = 1}^{m} \\Vert x^{(i)} - f_u (x^{(i)}) \\Vert_2^2\n",
    "    & = \\arg \\min_{u: u^T u = 1} \\sum_{i = 1}^{m} \\Vert x^{(i)} - u^T x^{(i)} u \\Vert_2^2 \\\\\n",
    "    & = \\arg \\min_{u: u^T u = 1} \\sum_{i = 1}^{m} ((x^{(i)})^T x^{(i)} - 2 (u^T x^{(i)}) ((x^{(i)})^T u) + (u^T x^{(i)})^2 (u^T u)) \\\\\n",
    "    & = \\arg \\min_{u: u^T u = 1} \\sum_{i = 1}^{m} ((x^{(i)})^T x^{(i)} - ((x^{(i)})^T u)^2) \\\\\n",
    "    & = \\arg \\max_{u: u^T u = 1} \\sum_{i = 1}^{m} ((x^{(i)})^T u)^2\n",
    "\\end{align*}\n",
    "\n",
    "which is to compute the argument that maximize the variance of projections."
   ]
  }
 ],
 "metadata": {
  "kernelspec": {
   "display_name": "Python 3",
   "language": "python",
   "name": "python3"
  },
  "language_info": {
   "codemirror_mode": {
    "name": "ipython",
    "version": 3
   },
   "file_extension": ".py",
   "mimetype": "text/x-python",
   "name": "python",
   "nbconvert_exporter": "python",
   "pygments_lexer": "ipython3",
   "version": "3.7.4"
  }
 },
 "nbformat": 4,
 "nbformat_minor": 1
}
