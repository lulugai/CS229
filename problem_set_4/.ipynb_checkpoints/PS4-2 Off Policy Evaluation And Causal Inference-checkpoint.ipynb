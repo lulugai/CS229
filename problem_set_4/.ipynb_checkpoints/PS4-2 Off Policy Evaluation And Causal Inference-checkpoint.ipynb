{
 "cells": [
  {
   "cell_type": "markdown",
   "metadata": {
    "collapsed": true,
    "pycharm": {
     "name": "#%% md\n"
    }
   },
   "source": [
    "## PS4-2 Off Policy Evaluation And Causal Inference"
   ]
  },
  {
   "cell_type": "markdown",
   "metadata": {
    "pycharm": {
     "name": "#%% md\n"
    }
   },
   "source": [
    "#### (a) Importance Sampling"
   ]
  },
  {
   "cell_type": "markdown",
   "metadata": {
    "pycharm": {
     "name": "#%% md\n"
    }
   },
   "source": [
    "If $\\hat{\\pi}_0 = \\pi_0$,\n",
    "\n",
    "\\begin{align*}\n",
    "\\mathbb{E}_{s \\sim p(s); \\ a \\sim \\pi_0 (s, a)} \\frac{\\pi_1 (s, a)}{\\hat{\\pi}_0 (s, a)} R(s, a)\n",
    "    & = \\sum_{(s, a)} \\frac{\\pi_1 (s, a)}{\\hat{\\pi}_0 (s, a)} R(s, a) p(s) \\pi_0 (s, a) \\\\\n",
    "    & = \\sum_{(s, a)} R(s, a) p(s) \\pi_1 (s, a) \\\\\n",
    "    & = \\mathbb{E}_{s \\sim p(s); \\ a \\sim \\pi_1 (s, a)} R(s, a)\n",
    "\\end{align*}"
   ]
  },
  {
   "cell_type": "markdown",
   "metadata": {
    "pycharm": {
     "name": "#%% md\n"
    }
   },
   "source": [
    "#### (b) Weighted Importance Sampling"
   ]
  },
  {
   "cell_type": "markdown",
   "metadata": {
    "pycharm": {
     "name": "#%% md\n"
    }
   },
   "source": [
    "If $\\hat{\\pi}_0 = \\pi_0$,\n",
    "\n",
    "\\begin{align*}\n",
    "\\mathbb{E}_{s \\sim p(s); \\ a \\sim \\pi_0 (s, a)} \\frac{\\pi_1 (s, a)}{\\hat{\\pi}_0 (s, a)}\n",
    "    & = \\sum_{(s, a)} \\frac{\\pi_1 (s, a)}{\\hat{\\pi}_0 (s, a)} p(s) \\pi_0 (s, a) \\\\\n",
    "    & = \\sum_{(s, a)} p(s) \\pi_1 (s, a) \\\\\n",
    "    & = 1\n",
    "\\end{align*}\n",
    "\n",
    "Therefore,\n",
    "\n",
    "$$\\frac{\\mathbb{E}_{s \\sim p(s); \\ a \\sim \\pi_0 (s, a)} \\frac{\\pi_1 (s, a)}{\\hat{\\pi}_0 (s, a)} R(s, a)}{\\mathbb{E}_{s \\sim p(s); \\ a \\sim \\pi_0 (s, a)} \\frac{\\pi_1 (s, a)}{\\hat{\\pi}_0 (s, a)}} = \\mathbb{E}_{s \\sim p(s); \\ a \\sim \\pi_1 (s, a)} R(s, a)$$"
   ]
  },
  {
   "cell_type": "markdown",
   "metadata": {
    "pycharm": {
     "name": "#%% md\n"
    }
   },
   "source": [
    "#### (c)\n",
    "\n",
    "When the dataset has only one example,\n",
    "\n",
    "\\begin{align*}\n",
    "\\frac{\\mathbb{E}_{s \\sim p(s); \\ a \\sim \\pi_0 (s, a)} \\frac{\\pi_1 (s, a)}{\\hat{\\pi}_0 (s, a)} R(s, a)}{\\mathbb{E}_{s \\sim p(s); \\ a \\sim \\pi_0 (s, a)} \\frac{\\pi_1 (s, a)}{\\hat{\\pi}_0 (s, a)}}\n",
    "    & = \\frac{\\frac{\\pi_1 (s, a)}{\\hat{\\pi}_0 (s, a)} R(s, a) p(s) \\pi_0 (s, a)}{\\frac{\\pi_1 (s, a)}{\\hat{\\pi}_0 (s, a)} p(s) \\pi_0 (s, a)} \\\\\n",
    "    & = R(s, a) \\\\\n",
    "    & \\ne \\mathbb{E}_{s \\sim p(s); \\ a \\sim \\pi_0 (s, a)} R(s, a)\n",
    "\\end{align*}\n",
    "\n",
    "in general cases."
   ]
  },
  {
   "cell_type": "markdown",
   "metadata": {
    "pycharm": {
     "name": "#%% md\n"
    }
   },
   "source": [
    "#### (d) Doubly Robust"
   ]
  },
  {
   "cell_type": "markdown",
   "metadata": {
    "pycharm": {
     "name": "#%% md\n"
    }
   },
   "source": [
    "##### i."
   ]
  },
  {
   "cell_type": "markdown",
   "metadata": {
    "pycharm": {
     "name": "#%% md\n"
    }
   },
   "source": [
    "When $\\hat{\\pi}_0 = \\pi_0$,\n",
    "\n",
    "\\begin{align*}\n",
    "\\mathbb{E}_{s \\sim p(s); \\ a \\sim \\pi_0 (s, a)} ((\\mathbb{E}_{a \\sim \\pi_1 (s, a)} \\hat{R}(s, a)) + \\frac{\\pi_1 (s, a)}{\\hat{\\pi}_0 (s, a)} (R(s, a) - \\hat{R}(s, a)))\n",
    "    & = \\mathbb{E}_{s \\sim p(s); \\ a \\sim \\pi_0 (s, a)} (\\mathbb{E}_{a \\sim \\pi_1 (s, a)} \\hat{R}(s, a)) + \\mathbb{E}_{s \\sim p(s); \\ a \\sim \\pi_1 (s, a)} R(s, a) - \\mathbb{E}_{s \\sim p(s); \\ a \\sim \\pi_1 (s, a)} \\hat{R}(s, a) \\\\\n",
    "    & = \\mathbb{E}_{s \\sim p(s); \\ a \\sim \\pi_1 (s, a)} \\hat{R}(s, a) + \\mathbb{E}_{s \\sim p(s); \\ a \\sim \\pi_1 (s, a)} R(s, a) - \\mathbb{E}_{s \\sim p(s); \\ a \\sim \\pi_1 (s, a)} \\hat{R}(s, a) \\\\\n",
    "    & = \\mathbb{E}_{s \\sim p(s); \\ a \\sim \\pi_1 (s, a)} R(s, a)\n",
    "\\end{align*}"
   ]
  },
  {
   "cell_type": "markdown",
   "metadata": {
    "pycharm": {
     "name": "#%% md\n"
    }
   },
   "source": [
    "##### ii."
   ]
  },
  {
   "cell_type": "markdown",
   "metadata": {
    "pycharm": {
     "name": "#%% md\n"
    }
   },
   "source": [
    "When $\\hat{R}(s, a) = R(s, a)$,\n",
    "\n",
    "\\begin{align*}\n",
    "\\mathbb{E}_{s \\sim p(s); \\ a \\sim \\pi_0 (s, a)} ((\\mathbb{E}_{a \\sim \\pi_1 (s, a)} \\hat{R}(s, a)) + \\frac{\\pi_1 (s, a)}{\\hat{\\pi}_0 (s, a)} (R(s, a) - \\hat{R}(s, a)))\n",
    "    & = \\mathbb{E}_{s \\sim p(s); \\ a \\sim \\pi_0 (s, a)} (\\mathbb{E}_{a \\sim \\pi_1 (s, a)} \\hat{R}(s, a)) \\\\\n",
    "    & = \\mathbb{E}_{s \\sim p(s); \\ a \\sim \\pi_1 (s, a)} R(s, a)\n",
    "\\end{align*}"
   ]
  },
  {
   "cell_type": "markdown",
   "metadata": {
    "pycharm": {
     "name": "#%% md\n"
    }
   },
   "source": [
    "#### (e)"
   ]
  },
  {
   "cell_type": "markdown",
   "metadata": {
    "pycharm": {
     "name": "#%% md\n"
    }
   },
   "source": [
    "##### i."
   ]
  },
  {
   "cell_type": "markdown",
   "metadata": {
    "pycharm": {
     "name": "#%% md\n"
    }
   },
   "source": [
    "Importance Sampling estimator. Because the policy is simpler."
   ]
  },
  {
   "cell_type": "markdown",
   "metadata": {
    "pycharm": {
     "name": "#%% md\n"
    }
   },
   "source": [
    "##### ii."
   ]
  },
  {
   "cell_type": "markdown",
   "metadata": {
    "pycharm": {
     "name": "#%% md\n"
    }
   },
   "source": [
    "Regression estimator. Because the reward function is simpler."
   ]
  }
 ],
 "metadata": {
  "kernelspec": {
   "display_name": "Python 3",
   "language": "python",
   "name": "python3"
  },
  "language_info": {
   "codemirror_mode": {
    "name": "ipython",
    "version": 3
   },
   "file_extension": ".py",
   "mimetype": "text/x-python",
   "name": "python",
   "nbconvert_exporter": "python",
   "pygments_lexer": "ipython3",
   "version": "3.7.4"
  }
 },
 "nbformat": 4,
 "nbformat_minor": 1
}
