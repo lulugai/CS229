{
 "cells": [
  {
   "cell_type": "markdown",
   "metadata": {
    "collapsed": true,
    "pycharm": {
     "name": "#%% md\n"
    }
   },
   "source": [
    "## PS4-5 Markov decision processes"
   ]
  },
  {
   "cell_type": "markdown",
   "source": [
    "#### (a)\n",
    "\n",
    "\\begin{align*}\n",
    "\\Vert B(V_1) - B(V_2) \\Vert_{\\infty}\n",
    "    & = \\Vert \\gamma \\max_{a \\in A} \\sum_{s' \\in S} P_{sa}(s') V_1(s') - \\gamma \\max_{a \\in A} \\sum_{s' \\in S} P_{sa}(s') V_2(s') \\Vert_{\\infty} \\\\\n",
    "    & = \\Vert \\gamma \\max_{a \\in A} \\sum_{s' \\in S} P_{sa}(s') \\big( (V_1(s') - V_2(s')) + V_2(s') \\big) - \\gamma \\max_{a \\in A} \\sum_{s' \\in S} P_{sa}(s') V_2(s') \\Vert_{\\infty} \\\\\n",
    "    & \\leq \\Vert \\gamma \\max_{a \\in A} \\sum_{s' \\in S} P_{sa}(s') (V_1(s') - V_2(s')) + \\gamma \\max_{a \\in A} \\sum_{s' \\in S} P_{sa}(s') V_2(s') - \\gamma \\max_{a \\in A} \\sum_{s' \\in S} P_{sa}(s') V_2(s') \\Vert_{\\infty} \\\\\n",
    "    & \\leq \\Vert \\gamma \\max_{a \\in A} \\sum_{s' \\in S} P_{sa}(s') (V_1(s') - V_2(s')) \\Vert_{\\infty} \\\\\n",
    "    & \\leq \\gamma \\Vert V_1 - V_2 \\Vert_{\\infty}\n",
    "\\end{align*}"
   ],
   "metadata": {
    "collapsed": false,
    "pycharm": {
     "name": "#%% md\n"
    }
   }
  },
  {
   "cell_type": "markdown",
   "source": [
    "#### (b)"
   ],
   "metadata": {
    "collapsed": false,
    "pycharm": {
     "name": "#%% md\n"
    }
   }
  },
  {
   "cell_type": "markdown",
   "source": [
    "If B has two different fixed points, then\n",
    "\n",
    "\\begin{align*}\n",
    "\\Vert V_1 - V_2 \\Vert_{\\infty} & = \\Vert B(V_1) - B(V_2) \\Vert_{\\infty} \\\\\n",
    "                               & \\leq \\gamma \\Vert V_1 - V_2 \\Vert_{\\infty}\n",
    "\\end{align*}\n",
    "\n",
    "which implies $\\Vert V_1 - V_2 \\Vert_{\\infty} = 0$, i.e. $V_1 = V_2$. Therefore, B has at most one fixed point."
   ],
   "metadata": {
    "collapsed": false,
    "pycharm": {
     "name": "#%% md\n"
    }
   }
  }
 ],
 "metadata": {
  "kernelspec": {
   "name": "cs229",
   "language": "python",
   "display_name": "cs229"
  },
  "language_info": {
   "codemirror_mode": {
    "name": "ipython",
    "version": 2
   },
   "file_extension": ".py",
   "mimetype": "text/x-python",
   "name": "python",
   "nbconvert_exporter": "python",
   "pygments_lexer": "ipython2",
   "version": "2.7.6"
  }
 },
 "nbformat": 4,
 "nbformat_minor": 0
}