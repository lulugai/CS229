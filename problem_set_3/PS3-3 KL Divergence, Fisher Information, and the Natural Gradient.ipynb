{
 "cells": [
  {
   "cell_type": "markdown",
   "metadata": {
    "collapsed": true,
    "pycharm": {
     "name": "#%% md\n"
    }
   },
   "source": [
    "## PS 3-3 KL Divergence, Fisher Information, and the Natural Gradient"
   ]
  },
  {
   "cell_type": "markdown",
   "source": [
    "#### (a) Score function"
   ],
   "metadata": {
    "collapsed": false,
    "pycharm": {
     "name": "#%% md\n"
    }
   }
  },
  {
   "cell_type": "markdown",
   "source": [
    "\\begin{align*}\n",
    "\\mathbb{E}_{y \\sim p(y; \\theta)}[\\nabla_{\\theta'} \\log p(y; \\ \\theta') \\vert_{\\theta' = \\theta}]\n",
    "    & = \\int_{- \\infty}^{\\infty} p(y; \\ \\theta) \\frac{1}{p(y; \\ \\theta)} \\frac{\\partial}{\\partial \\theta} p(y; \\ \\theta) dy \\\\\n",
    "    & = \\int_{- \\infty}^{\\infty} \\frac{\\partial}{\\partial \\theta} p(y; \\ \\theta) dy \\\\\n",
    "    & = \\frac{\\partial}{\\partial \\theta} \\int_{- \\infty}^{\\infty} p(y; \\ \\theta) dy \\\\\n",
    "    & = \\frac{\\partial}{\\partial \\theta} \\cdot 1 \\\\\n",
    "    & = 0\n",
    "\\end{align*}"
   ],
   "metadata": {
    "collapsed": false,
    "pycharm": {
     "name": "#%% md\n"
    }
   }
  },
  {
   "cell_type": "markdown",
   "source": [
    "#### (b) Fisher Information"
   ],
   "metadata": {
    "collapsed": false,
    "pycharm": {
     "name": "#%% md\n"
    }
   }
  },
  {
   "cell_type": "markdown",
   "source": [
    "\\begin{align*}\n",
    "\\mathcal{I}(\\theta) & = \\mathrm{Cov}_{y \\sim p(y; \\theta)}[\\nabla_{\\theta'} \\log p(y; \\ \\theta') \\vert_{\\theta' = \\theta}] \\\\\n",
    "                    & = \\mathrm{E}_{y \\sim p(y; \\theta)}[(\\nabla_{\\theta'} \\log p(y; \\ \\theta') - \\mathbb{E}_{y \\sim p(y; \\theta)}[\\nabla_{\\theta'} \\log p(y; \\ \\theta')]) (\\nabla_{\\theta'} \\log p(y; \\ \\theta') - \\mathbb{E}_{y \\sim p(y; \\theta)}[\\nabla_{\\theta'} \\log p(y; \\ \\theta')])^T \\vert_{\\theta' = \\theta}] \\\\\n",
    "                    & = \\mathrm{E}_{y \\sim p(y; \\theta)}[(\\nabla_{\\theta'} \\log p(y; \\ \\theta') - 0) (\\nabla_{\\theta'} \\log p(y; \\ \\theta') - 0)^T \\vert_{\\theta' = \\theta}] \\\\\n",
    "                    & = \\mathrm{E}_{y \\sim p(y; \\theta)}[\\nabla_{\\theta'} \\log p(y; \\ \\theta') \\nabla_{\\theta'} \\log p(y; \\ \\theta')^T \\vert_{\\theta' = \\theta}]\n",
    "\\end{align*}"
   ],
   "metadata": {
    "collapsed": false,
    "pycharm": {
     "name": "#%% md\n"
    }
   }
  },
  {
   "cell_type": "markdown",
   "source": [
    "#### (c) Fisher Information (alternate form)"
   ],
   "metadata": {
    "collapsed": false,
    "pycharm": {
     "name": "#%% md\n"
    }
   }
  },
  {
   "cell_type": "markdown",
   "source": [
    "\\begin{align*}\n",
    "\\mathbb{E}_{y \\sim p(y; \\theta)}[- \\nabla_{\\theta'}^2 \\log p(y; \\ \\theta') \\vert_{\\theta' = \\theta}]\n",
    "    & = - \\int_{- \\infty}^{\\infty} p(y; \\ \\theta) \\big( - \\frac{1}{p(y; \\ \\theta)^2} (\\frac{\\partial}{\\partial \\theta} p(y; \\ \\theta))^2 + \\frac{1}{p(y; \\ \\theta)} \\frac{\\partial^2}{\\partial \\theta^2} p(y; \\ \\theta) \\big) dy \\\\\n",
    "    & = \\int_{- \\infty}^{\\infty} p(y; \\ \\theta) \\big( \\frac{1}{p(y; \\ \\theta)} \\frac{\\partial}{\\partial \\theta} p(y; \\ \\theta) \\big)^2 dy - \\frac{\\partial^2}{\\partial \\theta^2} \\int_{- \\infty}^{\\infty} p(y; \\ \\theta) dy \\\\\n",
    "    & = \\int_{- \\infty}^{\\infty} p(y; \\ \\theta) \\big( \\nabla_{\\theta'} \\log p(y; \\ \\theta') \\vert_{\\theta' = \\theta} \\big)^2 dy - 0 \\\\\n",
    "    & = \\mathbb{E}_{y \\sim p(y; \\theta)}[(\\nabla_{\\theta'} \\log p(y; \\ \\theta') \\vert_{\\theta' = \\theta})^2] - \\big( \\mathbb{E}_{y \\sim p(y; \\theta)}[\\nabla_{\\theta'} \\log p(y; \\ \\theta') \\vert_{\\theta' = \\theta}] \\big)^2 \\\\\n",
    "    & = \\mathrm{Cov}_{y \\sim p(y; \\theta)}[\\nabla_{\\theta'} \\log p(y; \\ \\theta') \\vert_{\\theta' = \\theta}] \\\\\n",
    "    & = \\mathcal{I}(\\theta)\n",
    "\\end{align*}"
   ],
   "metadata": {
    "collapsed": false,
    "pycharm": {
     "name": "#%% md\n"
    }
   }
  },
  {
   "cell_type": "markdown",
   "source": [
    "#### (d) Approximating $D_{KL}$ with Fisher Information"
   ],
   "metadata": {
    "collapsed": false
   }
  },
  {
   "cell_type": "markdown",
   "source": [
    "By Taylor Series,\n",
    "\n",
    "$$\\log p(x; \\ \\theta + d) \\approx \\log p(x; \\ \\theta) + d^T \\nabla_{\\theta'} \\log p(x; \\ \\theta') \\vert_{\\theta' = \\theta} + \\frac{1}{2} d^T \\nabla_{\\theta'}^2 \\log p(x; \\ \\theta') \\vert_{\\theta' = \\theta} \\ d$$\n",
    "\n",
    "Plug this equation into $D_{KL}(p_{\\theta} \\Vert p_{\\theta + d})$,\n",
    "\n",
    "\\begin{align*}\n",
    "D_{KL}(p_{\\theta} \\Vert p_{\\theta + d})\n",
    "    & = H(p_{\\theta}, p_{\\theta + d}) - H(p_{\\theta}) \\\\\n",
    "    & = -\\int_{- \\infty}^{\\infty} p(x; \\ \\theta) \\log p(x; \\ \\theta + d) dx + \\int_{- \\infty}^{\\infty} p(x; \\ \\theta) \\log p(x; \\ \\theta) dx \\\\\n",
    "    & \\approx -\\int_{- \\infty}^{\\infty} p(x; \\ \\theta) \\big( \\log p(x; \\ \\theta) + d^T \\nabla_{\\theta'} \\log p(x; \\ \\theta') \\vert_{\\theta' = \\theta} + \\frac{1}{2} d^T \\nabla_{\\theta'}^2 \\log p(x; \\ \\theta') \\vert_{\\theta' = \\theta} \\ d \\big) dx + \\int_{- \\infty}^{\\infty} p(x; \\ \\theta) \\log p(x; \\ \\theta) dx \\\\\n",
    "    & = - d^T \\int_{- \\infty}^{\\infty} p(x; \\ \\theta) \\nabla_{\\theta'} \\log p(x; \\ \\theta') \\vert_{\\theta' = \\theta} dx + \\frac{1}{2} d^T \\big( \\int_{- \\infty}^{\\infty} p(x; \\ \\theta) (- \\nabla_{\\theta'}^2 \\log p(x; \\ \\theta') \\vert_{\\theta' = \\theta}) dx \\big) d \\\\\n",
    "    & = - d^T \\big( \\mathbb{E}_{y \\sim p(y; \\theta)}[\\nabla_{\\theta'} \\log p(y; \\ \\theta') \\vert_{\\theta' = \\theta}] \\big) + \\frac{1}{2} d^T \\big( \\mathbb{E}_{y \\sim p(y; \\theta)}[- \\nabla_{\\theta'}^2 \\log p(y; \\ \\theta') \\vert_{\\theta' = \\theta}] \\big) d \\\\\n",
    "    & = 0 + \\frac{1}{2} d^T \\mathcal{I}(\\theta) d \\\\\n",
    "    & = \\frac{1}{2} d^T \\mathcal{I}(\\theta) d\n",
    "\\end{align*}"
   ],
   "metadata": {
    "collapsed": false
   }
  },
  {
   "cell_type": "markdown",
   "source": [
    "#### (e) Natural Gradient"
   ],
   "metadata": {
    "collapsed": false,
    "pycharm": {
     "name": "#%% md\n"
    }
   }
  },
  {
   "cell_type": "markdown",
   "source": [
    "Recall the natural gradient update\n",
    "\n",
    "$$d^* = \\arg \\max_d \\ell (\\theta + d) \\quad \\mathrm{subject} \\ \\mathrm{to} \\quad D_{KL}(p_\\theta \\Vert p_{\\theta + d}) = c$$\n",
    "\n",
    "By utilizing Taylor approximation on $\\ell (\\theta + d)$, the optimization problem can be reduced to\n",
    "\n",
    "$$d^* \\approx \\arg \\max_d \\ell (\\theta) + d^T \\nabla_{\\theta'} \\ell(\\theta') \\vert_{\\theta' = \\theta} \\quad \\mathrm{subject} \\ \\mathrm{to} \\quad \\frac{1}{2} d^T \\mathcal{I}(\\theta) d = c$$\n",
    "\n",
    "Construct the Lagrangian:\n",
    "\n",
    "$$\\mathcal{L}(d, \\lambda) = \\ell (\\theta) + d^T \\nabla_{\\theta'} \\ell(\\theta') \\vert_{\\theta' = \\theta} - \\lambda \\big( \\frac{1}{2} d^T \\mathcal{I}(\\theta) d - c \\big)$$\n",
    "\n",
    "Then construct linear equations:\n",
    "\n",
    "\\begin{align*}\n",
    "\\nabla_d \\mathcal{L}(d, \\lambda) & = \\nabla_{\\theta'} \\ell(\\theta') \\vert_{\\theta' = \\theta} - \\lambda \\mathcal{I}(\\theta) d \\\\\n",
    "                                 & = \\frac{\\nabla_{\\theta'} p(y; \\ \\theta') \\vert_{\\theta' = \\theta}}{p(y; \\ \\theta)} - \\lambda \\mathcal{I}(\\theta) d \\\\\n",
    "                                 & = 0 \\\\\n",
    "\\nabla_{\\lambda} \\mathcal{L}(d, \\lambda) & = c - \\frac{1}{2} d^T \\mathcal{I}(\\theta) d \\\\\n",
    "                                         & = 0\n",
    "\\end{align*}\n",
    "\n",
    "Solve the first equation for the unscaled natural gradient $\\tilde{d}$:\n",
    "\n",
    "$$\\tilde{d} = \\frac{\\mathcal{I}(\\theta)^{-1} (\\nabla_{\\theta'} p(y; \\ \\theta') \\vert_{\\theta' = \\theta})}{\\lambda \\ p(y; \\ \\theta)}$$\n",
    "\n",
    "Then solve the second equation for $\\lambda$ and plug it back into $\\tilde{d}$, we obtain\n",
    "\n",
    "$$\\lambda = \\frac{1}{\\sqrt{2c} \\ p(y; \\ \\theta)} \\big( (\\nabla_{\\theta'} p(y; \\ \\theta') \\vert_{\\theta' = \\theta})^T \\mathcal{I}(\\theta)^{-1} (\\nabla_{\\theta'} p(y; \\ \\theta') \\vert_{\\theta' = \\theta}) \\big)^{\\frac{1}{2}}$$\n",
    "\n",
    "and\n",
    "\n",
    "$$d^* = \\sqrt{2c} \\ \\big( (\\nabla_{\\theta'} p(y; \\ \\theta') \\vert_{\\theta' = \\theta})^T \\mathcal{I}(\\theta)^{-1} (\\nabla_{\\theta'} p(y; \\ \\theta') \\vert_{\\theta' = \\theta}) \\big)^{- \\frac{1}{2}} \\ \\mathcal{I}(\\theta)^{-1} (\\nabla_{\\theta'} p(y; \\ \\theta') \\vert_{\\theta' = \\theta})$$"
   ],
   "metadata": {
    "collapsed": false,
    "pycharm": {
     "name": "#%% md\n"
    }
   }
  },
  {
   "cell_type": "markdown",
   "source": [
    "#### (f) Relation to Newton's Method"
   ],
   "metadata": {
    "collapsed": false,
    "pycharm": {
     "name": "#%% md\n"
    }
   }
  },
  {
   "cell_type": "markdown",
   "source": [
    "\\begin{align*}\n",
    "\\theta : & = \\theta + \\tilde{d} \\\\\n",
    "         & = \\theta + \\frac{1}{\\lambda} \\mathcal{I}(\\theta)^{-1} \\nabla_{\\theta'} \\ell (\\theta') \\vert_{\\theta' = \\theta} \\\\\n",
    "         & = \\theta + \\frac{1}{\\lambda} \\big( \\mathbb{E}_{y \\sim p(y; \\theta)}[- \\nabla_{\\theta'}^2 \\log p(y; \\ \\theta') \\vert_{\\theta' = \\theta}] \\big)^{-1} \\nabla_{\\theta'} \\ell (\\theta') \\vert_{\\theta' = \\theta} \\\\\n",
    "         & = \\theta - \\frac{1}{\\lambda} \\big( \\mathbb{E}_{y \\sim p(y; \\theta)}[H] \\big)^{-1} \\nabla_{\\theta} \\ell (\\theta)\n",
    "\\end{align*}\n",
    "\n",
    "Hence, the direction of update of Newton’s method, and the direction of natural gradient, are exactly the same for Generalized Linear Models."
   ],
   "metadata": {
    "collapsed": false,
    "pycharm": {
     "name": "#%% md\n"
    }
   }
  }
 ],
 "metadata": {
  "kernelspec": {
   "name": "cs229",
   "language": "python",
   "display_name": "cs229"
  },
  "language_info": {
   "codemirror_mode": {
    "name": "ipython",
    "version": 2
   },
   "file_extension": ".py",
   "mimetype": "text/x-python",
   "name": "python",
   "nbconvert_exporter": "python",
   "pygments_lexer": "ipython2",
   "version": "2.7.6"
  }
 },
 "nbformat": 4,
 "nbformat_minor": 0
}