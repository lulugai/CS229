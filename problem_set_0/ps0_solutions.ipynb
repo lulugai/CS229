{
 "cells": [
  {
   "cell_type": "markdown",
   "metadata": {
    "collapsed": true,
    "pycharm": {
     "name": "#%% md\n"
    }
   },
   "source": [
    "## Linear Algebra and Multivariate Calculus"
   ]
  },
  {
   "cell_type": "markdown",
   "source": [
    "### 1. Gradients and Hessians\n"
   ],
   "metadata": {
    "collapsed": false,
    "pycharm": {
     "name": "#%% md\n"
    }
   }
  },
  {
   "cell_type": "markdown",
   "source": [
    "(a) $\\nabla f(x) = Ax + b$"
   ],
   "metadata": {
    "collapsed": false,
    "pycharm": {
     "name": "#%% md\n"
    }
   }
  },
  {
   "cell_type": "markdown",
   "source": [
    "(b) $\\nabla f(x) = g'(h(x)) \\nabla h(x)$"
   ],
   "metadata": {
    "collapsed": false,
    "pycharm": {
     "name": "#%% md\n"
    }
   }
  },
  {
   "cell_type": "markdown",
   "source": [
    "(c) $\\nabla^2 f(x) = \\nabla (\\nabla f(x)) = A$"
   ],
   "metadata": {
    "collapsed": false,
    "pycharm": {
     "name": "#%% md\n"
    }
   }
  },
  {
   "cell_type": "markdown",
   "source": [
    "(d) $\\nabla f(x) = a g'(a^T x)$; $\\nabla ^2 f(x) = a a^T g''(a^T x)$"
   ],
   "metadata": {
    "collapsed": false,
    "pycharm": {
     "name": "#%% md\n"
    }
   }
  },
  {
   "cell_type": "markdown",
   "source": [
    "### 2. Positive definite matrices"
   ],
   "metadata": {
    "collapsed": false,
    "pycharm": {
     "name": "#%% md\n"
    }
   }
  },
  {
   "cell_type": "markdown",
   "source": [
    "#### (a)"
   ],
   "metadata": {
    "collapsed": false,
    "pycharm": {
     "name": "#%% md\n"
    }
   }
  },
  {
   "cell_type": "markdown",
   "source": [
    "$x^T A x = x^T z z^T x = (z^T x)^T (z^T x) = (z^T x)^2 \\geq 0 \\implies A \\succeq 0$"
   ],
   "metadata": {
    "collapsed": false,
    "pycharm": {
     "name": "#%% md\n"
    }
   }
  },
  {
   "cell_type": "markdown",
   "source": [
    "#### (b)"
   ],
   "metadata": {
    "collapsed": false,
    "pycharm": {
     "name": "#%% md\n"
    }
   }
  },
  {
   "cell_type": "markdown",
   "source": [
    "$Ax = 0 \\implies x^T A x = 0 \\implies (z^T x)^2 = 0 \\implies$ $x \\perp z^T$\n",
    "\n",
    "Since $z \\in \\mathbb{R}^n$ is a non-zero vector, $1 \\leq \\mathrm{rank} (A) = \\mathrm{rank} (z z^T) \\leq \\mathrm{rank}(z) = 1 \\implies \\mathrm{rank} (A) = 1$.\n"
   ],
   "metadata": {
    "collapsed": false,
    "pycharm": {
     "name": "#%% md\n"
    }
   }
  },
  {
   "cell_type": "markdown",
   "source": [
    "#### (c)"
   ],
   "metadata": {
    "collapsed": false,
    "pycharm": {
     "name": "#%% md\n"
    }
   }
  },
  {
   "cell_type": "markdown",
   "source": [
    "Yes, $B A B^T$ is PSD. Because\n",
    "\n",
    "$x^T B A B^T x = x^T B z z^T B^T x = (z^T B^T x)^T (z^T B^T x) = (z^T B^T x)^2 \\geq 0 \\implies B A B^T \\succeq 0$"
   ],
   "metadata": {
    "collapsed": false,
    "pycharm": {
     "name": "#%% md\n"
    }
   }
  },
  {
   "cell_type": "markdown",
   "source": [
    "### 3. Eigenvectors, eigenvalues, and the spectral theorem"
   ],
   "metadata": {
    "collapsed": false,
    "pycharm": {
     "name": "#%% md\n"
    }
   }
  },
  {
   "cell_type": "markdown",
   "source": [
    "#### (a)"
   ],
   "metadata": {
    "collapsed": false,
    "pycharm": {
     "name": "#%% md\n"
    }
   }
  },
  {
   "cell_type": "markdown",
   "source": [
    "$\n",
    "\\begin{align*}\n",
    "A = T \\Lambda T^{-1} & \\implies A T = T \\Lambda \\\\\n",
    "                     & \\implies A \\ [t^{(1)} \\dotsb t^{(n)}] = [t^{(1)} \\dotsb t^{(n)}]\n",
    "                                \\begin{bmatrix}\n",
    "                                \\lambda_1 & \\dotsb & 0 \\\\\n",
    "                                \\vdots & \\ddots & \\vdots \\\\\n",
    "                                0 & \\dotsb & \\lambda_n\n",
    "                                \\end{bmatrix}\n",
    "                                = [\\lambda_1 t^{(1)} \\dotsb \\lambda_n t^{(n)}]\n",
    "\\end{align*}\n",
    "$\n",
    "\n",
    "Therefore, $At^{(i)} = \\lambda_i t^{(i)}$, so that the eigenvalue/eigenvector pairs of $A$ are $(t^{(i)}, \\lambda_i)$."
   ],
   "metadata": {
    "collapsed": false,
    "pycharm": {
     "name": "#%% md\n"
    }
   }
  },
  {
   "cell_type": "markdown",
   "source": [
    "#### (b)"
   ],
   "metadata": {
    "collapsed": false,
    "pycharm": {
     "name": "#%% md\n"
    }
   }
  },
  {
   "cell_type": "markdown",
   "source": [
    "$\n",
    "\\begin{align*}\n",
    "U^T U = I & \\implies U^T = U^{-1} \\\\\n",
    "          & \\implies A = U \\Lambda U^T = U \\Lambda U^{-1}\n",
    "\\end{align*}\n",
    "$\n",
    "\n",
    "Similar to part (a), we can conclude that $u^{(i)}$ is an eigenvector of $A$,\n",
    "and $Au^{(i)} = \\lambda_i u^{(i)}$, where $\\Lambda = \\mathrm{diag} (\\lambda_1, \\dots , \\lambda_n)$."
   ],
   "metadata": {
    "collapsed": false,
    "pycharm": {
     "name": "#%% md\n"
    }
   }
  },
  {
   "cell_type": "markdown",
   "source": [
    "#### (c)"
   ],
   "metadata": {
    "collapsed": false,
    "pycharm": {
     "name": "#%% md\n"
    }
   }
  },
  {
   "cell_type": "markdown",
   "source": [
    "If $A$ is PSD,\n",
    "\n",
    "$$\\forall x \\in \\mathbb{R}^n, \\ x^T U \\Lambda U^T x = (U^T x)^T \\Lambda (U^T x) \\geq 0$$\n",
    "\n",
    "which implies\n",
    "\n",
    "$$\\forall i \\in \\{1, \\dots , n\\}, \\ (U^T x)_i \\ \\lambda_i (A) \\ (U^T x)_i = \\lambda_i (A) \\ (U^T x)_i^2 \\geq 0$$\n",
    "\n",
    "Hence, $\\lambda_i (A) \\geq 0$ for each $i$."
   ],
   "metadata": {
    "collapsed": false,
    "pycharm": {
     "name": "#%% md\n"
    }
   }
  }
 ],
 "metadata": {
  "kernelspec": {
   "name": "cs229",
   "language": "python",
   "display_name": "cs229"
  },
  "language_info": {
   "codemirror_mode": {
    "name": "ipython",
    "version": 2
   },
   "file_extension": ".py",
   "mimetype": "text/x-python",
   "name": "python",
   "nbconvert_exporter": "python",
   "pygments_lexer": "ipython2",
   "version": "2.7.6"
  }
 },
 "nbformat": 4,
 "nbformat_minor": 0
}